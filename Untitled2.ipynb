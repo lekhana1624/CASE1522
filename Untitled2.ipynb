{
  "nbformat": 4,
  "nbformat_minor": 0,
  "metadata": {
    "colab": {
      "provenance": [],
      "authorship_tag": "ABX9TyO3ert4kxMklJ+I0h49H8uq",
      "include_colab_link": true
    },
    "kernelspec": {
      "name": "python3",
      "display_name": "Python 3"
    },
    "language_info": {
      "name": "python"
    }
  },
  "cells": [
    {
      "cell_type": "markdown",
      "metadata": {
        "id": "view-in-github",
        "colab_type": "text"
      },
      "source": [
        "<a href=\"https://colab.research.google.com/github/lekhana1624/CASE1522/blob/main/Untitled2.ipynb\" target=\"_parent\"><img src=\"https://colab.research.google.com/assets/colab-badge.svg\" alt=\"Open In Colab\"/></a>"
      ]
    },
    {
      "cell_type": "code",
      "execution_count": 2,
      "metadata": {
        "colab": {
          "base_uri": "https://localhost:8080/"
        },
        "id": "1QZRUiZQofl3",
        "outputId": "988cf822-606d-4a47-9445-28a9e2378207"
      },
      "outputs": [
        {
          "output_type": "stream",
          "name": "stdout",
          "text": [
            "[2, 1, 1, 2, 100, 420]\n",
            "[  2   1   1   2 100 420]\n",
            "<built-in method max of numpy.ndarray object at 0x7fce3521a610>\n",
            "<built-in method min of numpy.ndarray object at 0x7fce3521a610>\n",
            "5\n",
            "1\n",
            "[  1   1   2   2 100 420]\n",
            "[  1   2 100 420]\n",
            "1\n",
            "1\n",
            "[100 120  45  88   3]\n",
            "71.2\n",
            "88.0\n",
            "42.025706418809904\n"
          ]
        }
      ],
      "source": [
        "#Array functions:\n",
        "import numpy\n",
        "#collection list\n",
        "a=[2,1,1,2,100,420]\n",
        "print(a)\n",
        "#array()\n",
        "b=numpy.array(a)\n",
        "print(b)\n",
        "print(b.max)\n",
        "print(b.min)\n",
        "print(b.argmax())\n",
        "print(b.argmin())\n",
        "#sort unique\n",
        "c=numpy.sort(b)\n",
        "print(c)\n",
        "d=numpy.unique(c)\n",
        "print(d)\n",
        "# 2 max ele\n",
        "print(a[2])\n",
        "# 2 min\n",
        "print(a[1])\n",
        "e=[100,120,45,88,3]\n",
        "f=numpy.array(e)\n",
        "print(f)\n",
        "print(f.mean())\n",
        "#median\n",
        "print(numpy.median(f))\n",
        "#std\n",
        "print(f.std())\n",
        "\n"
      ]
    },
    {
      "cell_type": "code",
      "source": [
        "#matrix:\n",
        "import numpy\n",
        "a=[[1,2,3,0],[4,5,6,1],[7,8,9,0]]\n",
        "b=numpy.array(a)\n",
        "print(b)\n",
        "#first row\n",
        "print(b[0])\n",
        "#last row\n",
        "print(b[2])\n",
        "#2 & last row\n",
        "print(b[1:3]) #1 2\n",
        "#1 col\n",
        "print(b[:,0])\n",
        "print(b[:,3])\n",
        "print(b[:,1:3])\n",
        "\n"
      ],
      "metadata": {
        "colab": {
          "base_uri": "https://localhost:8080/"
        },
        "id": "b9aC4cNIp1aG",
        "outputId": "7deaffd6-81d6-4b7b-920d-7f588fe57a2e"
      },
      "execution_count": 4,
      "outputs": [
        {
          "output_type": "stream",
          "name": "stdout",
          "text": [
            "[[1 2 3 0]\n",
            " [4 5 6 1]\n",
            " [7 8 9 0]]\n",
            "[1 2 3 0]\n",
            "[7 8 9 0]\n",
            "[[4 5 6 1]\n",
            " [7 8 9 0]]\n",
            "[1 4 7]\n",
            "[0 1 0]\n",
            "[[2 3]\n",
            " [5 6]\n",
            " [8 9]]\n"
          ]
        }
      ]
    }
  ]
}